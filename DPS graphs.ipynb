{
 "cells": [
  {
   "cell_type": "code",
   "execution_count": 1,
   "metadata": {},
   "outputs": [],
   "source": [
    "import calc_dps"
   ]
  },
  {
   "cell_type": "code",
   "execution_count": 48,
   "metadata": {},
   "outputs": [
    {
     "data": {
      "text/plain": [
       "ItemProperties(id=1225, name='Mithril dagger(p)', incomplete=False, members=True, tradeable=True, tradeable_on_ge=True, stackable=False, stacked=None, noted=False, noteable=True, linked_id_item=None, linked_id_noted=1226, linked_id_placeholder=14645, placeholder=False, equipable=True, equipable_by_player=True, equipable_weapon=True, cost=325, lowalch=130, highalch=195, weight=0.396, buy_limit=125, quest_item=False, release_date='2002-02-27', duplicate=False, examine='A poisoned Mithril dagger.', icon='iVBORw0KGgoAAAANSUhEUgAAACQAAAAgCAYAAAB6kdqOAAABe0lEQVR4Xu3VMUvDQBQH8LwxQ4YMhSAIHRwyOHRQBFEoCtLBxSWLUAS7CE6uCnYRERddRBRRREVxEEV0EHWTQnEQv4Eg4qf4y93jmkvi6rsM/uFRkg73473Lnef9eQj5N46iIISldqB/8/8KJoWYUs+1atUFKgtxDCIkyaKuUoHq9aYux6Asxq44bpQHZGMEQaXCqPwOKhXG0b5RKYL+R5WmCBLG2BdkESO8bwinJxW9oKk8SLw721uhRl1fMcwhRoWwshxgdyfE+RmjHh8iVxgVwlzTR3s1wP4eo25vKnh+itB5iaxRiobQmvexvhbg8CDE5UWK6nYivL/1SaMIE4MeZkZ8bG6EPdT9HaM+PxgkNDrC8ICH6SEfs+O+Xlht8uMjRpmRCe4l7k4yyhheND0CDEQMMxZzdxambJDnCUNMCI2aj9ZkihEG2OHumH3jGKNC+iv6/urPjMpRGPPa5YPPcXdIXxPqijAnsUOMCfXOGMfdsVMqDEca8wMsKputRxyWKwAAAABJRU5ErkJggg==', wiki_name='Mithril dagger (Poison)', wiki_url='https://oldschool.runescape.wiki/w/Mithril_dagger#Poison', equipment=ItemEquipment(attack_stab=11, attack_slash=5, attack_crush=-4, attack_magic=1, attack_ranged=0, defence_stab=0, defence_slash=0, defence_crush=0, defence_magic=1, defence_ranged=0, melee_strength=10, ranged_strength=0, magic_damage=0, prayer=0, slot='weapon', requirements={'attack': 20}), weapon=ItemWeapon(attack_speed=4, weapon_type='stabbing_swords', stances=[{'combat_style': 'stab', 'attack_type': 'stab', 'attack_style': 'accurate', 'experience': 'attack', 'boosts': None}, {'combat_style': 'lunge', 'attack_type': 'stab', 'attack_style': 'aggressive', 'experience': 'strength', 'boosts': None}, {'combat_style': 'slash', 'attack_type': 'slash', 'attack_style': 'aggressive', 'experience': 'strength', 'boosts': None}, {'combat_style': 'block', 'attack_type': 'stab', 'attack_style': 'defensive', 'experience': 'defence', 'boosts': None}]))"
      ]
     },
     "execution_count": 48,
     "metadata": {},
     "output_type": "execute_result"
    }
   ],
   "source": [
    "wtypes = set(w.weapon.weapon_type for w in calc_dps.all_weapons)\n",
    "calc_dps.all_weapons[]"
   ]
  },
  {
   "cell_type": "code",
   "execution_count": 2,
   "metadata": {},
   "outputs": [],
   "source": []
  },
  {
   "cell_type": "code",
   "execution_count": 66,
   "metadata": {},
   "outputs": [
    {
     "name": "stdout",
     "output_type": "stream",
     "text": [
      "max hit: 10, hit chance: 0.236\n"
     ]
    },
    {
     "data": {
      "image/png": "[encoded data removed]",
      "text/plain": [
       "<Figure size 432x288 with 1 Axes>"
      ]
     },
     "metadata": {
      "needs_background": "light"
     },
     "output_type": "display_data"
    },
    {
     "name": "stdout",
     "output_type": "stream",
     "text": [
      "51 < 78 < 113\n",
      "computed htk: 79.5, simulated htk: 79.4\n",
      "slash: max hit: 8, hit chance: 0.228\n"
     ]
    },
    {
     "data": {
      "image/png": "[encoded data removed]",
      "text/plain": [
       "<Figure size 432x288 with 1 Axes>"
      ]
     },
     "metadata": {
      "needs_background": "light"
     },
     "output_type": "display_data"
    },
    {
     "name": "stdout",
     "output_type": "stream",
     "text": [
      "68 < 102 < 140\n",
      "computed dmg: 103.2, simulated dmg: 102.4\n",
      "Damage per kill: 103.2\n"
     ]
    }
   ],
   "source": [
    "import importlib\n",
    "importlib.reload(calc_dps)\n",
    "\n",
    "rscim = calc_dps.weapon_dict['rune scimitar']\n",
    "dsw = calc_dps.weapon_dict['dragon sword']\n",
    "\n",
    "\n",
    "equip = calc_dps.Equipment(\n",
    "    stance=0, \n",
    "    weapon='rune longsword',\n",
    "    neck='amulet of glory',\n",
    "    shield='rune kiteshield',\n",
    "    head='rune full helm',\n",
    "    body='rune platebody',\n",
    "    legs='rune platelegs',\n",
    "    feet='fancy boots',\n",
    "    hands='combat bracelet',\n",
    "    cape='ardougne cloak 1',\n",
    "    ring='warrior ring',\n",
    ")\n",
    "\n",
    "enemy = calc_dps.monster_dict[('green dragon', 88)]\n",
    "player = calc_dps.Player(40, 46, 41, equipment=equip)\n",
    "\n",
    "ttk = calc_dps.expected_ttk(player, enemy)\n",
    "dmg = calc_dps.expected_damage(player, enemy, ttk)\n",
    "\n",
    "print('Damage per kill: %.1f' % dmg)"
   ]
  },
  {
   "cell_type": "code",
   "execution_count": 29,
   "metadata": {},
   "outputs": [
    {
     "name": "stdout",
     "output_type": "stream",
     "text": [
      "{'curse', 'dragonfire', 'stab', 'typeless', 'ranged', 'slash', 'magic', 'melee', 'crush'}\n",
      "MonsterProperties(id=9465, name='Infernal pyrelord', incomplete=True, members=True, release_date='2020-02-13', combat_level=134, size=3, hitpoints=184, max_hit=10, attack_type=['melee', 'magic'], attack_speed=4, aggressive=False, poisonous=False, immune_poison=False, immune_venom=False, attributes=['demon'], category=['pyrefiend'], slayer_monster=True, slayer_level=30, slayer_xp=1840.0, slayer_masters=['mazchna', 'vannaka', 'chaeldar'], duplicate=False, examine='A huge demonic being of fire.', icon=None, wiki_name='Infernal pyrelord', wiki_url='https://oldschool.runescape.wiki/w/Infernal_pyrelord', attack_level=124, strength_level=96, defence_level=68, magic_level=1, ranged_level=1, attack_stab=0, attack_slash=0, attack_crush=0, attack_magic=0, attack_ranged=0, defence_stab=18, defence_slash=18, defence_crush=18, defence_magic=0, defence_ranged=18, attack_accuracy=0, melee_strength=0, ranged_strength=0, magic_damage=0, drops=[MonsterDrop(id=592, name='Ashes', members=True, quantity='1', noted=False, rarity=1.0, drop_requirements=None), MonsterDrop(id=1355, name='Mithril axe', members=True, quantity='1', noted=False, rarity=0.03125, drop_requirements=None), MonsterDrop(id=1159, name='Mithril full helm', members=True, quantity='1', noted=False, rarity=0.03125, drop_requirements=None), MonsterDrop(id=1387, name='Staff of fire', members=True, quantity='1', noted=False, rarity=0.0234375, drop_requirements=None), MonsterDrop(id=1109, name='Mithril chainbody', members=True, quantity='1', noted=False, rarity=0.015625, drop_requirements=None), MonsterDrop(id=1145, name='Adamant med helm', members=True, quantity='1', noted=False, rarity=0.0078125, drop_requirements=None), MonsterDrop(id=4123, name='Steel boots', members=True, quantity='1', noted=False, rarity=0.0078125, drop_requirements=None), MonsterDrop(id=554, name='Fire rune', members=True, quantity='100', noted=False, rarity=0.0625, drop_requirements=None), MonsterDrop(id=554, name='Fire rune', members=True, quantity='100', noted=False, rarity=0.0625, drop_requirements=None), MonsterDrop(id=562, name='Chaos rune', members=True, quantity='20', noted=False, rarity=0.0390625, drop_requirements=None), MonsterDrop(id=560, name='Death rune', members=True, quantity='5', noted=False, rarity=0.0234375, drop_requirements=None), MonsterDrop(id=617, name='Coins', members=True, quantity='600', noted=False, rarity=0.015625, drop_requirements=None), MonsterDrop(id=617, name='Coins', members=True, quantity='600', noted=False, rarity=0.015625, drop_requirements=None), MonsterDrop(id=617, name='Coins', members=True, quantity='600', noted=False, rarity=0.015625, drop_requirements=None), MonsterDrop(id=617, name='Coins', members=True, quantity='600', noted=False, rarity=0.015625, drop_requirements=None), MonsterDrop(id=617, name='Coins', members=True, quantity='600', noted=False, rarity=0.015625, drop_requirements=None), MonsterDrop(id=444, name='Gold ore', members=True, quantity='2', noted=False, rarity=0.0625, drop_requirements=None), MonsterDrop(id=1993, name='Jug of wine', members=True, quantity='1', noted=False, rarity=0.015625, drop_requirements=None), MonsterDrop(id=2801, name='Clue scroll (medium)', members=True, quantity='1', noted=False, rarity=0.09615384615384616, drop_requirements=None), MonsterDrop(id=20730, name='Mist battlestaff', members=True, quantity='1', noted=False, rarity=0.002637130801687764, drop_requirements='superior-only'), MonsterDrop(id=20736, name='Dust battlestaff', members=True, quantity='1', noted=False, rarity=0.002637130801687764, drop_requirements='superior-only'), MonsterDrop(id=21270, name='Eternal gem', members=True, quantity='1', noted=False, rarity=0.000879043600562588, drop_requirements='superior-only'), MonsterDrop(id=20724, name='Imbued heart', members=True, quantity='1', noted=False, rarity=0.000879043600562588, drop_requirements='superior-only')])\n"
     ]
    }
   ],
   "source": [
    "ts = set()\n",
    "for m in calc_dps.all_monsters:\n",
    "    for t in m.attack_type:\n",
    "        ts.add(t)\n",
    "        if t == 'melee':\n",
    "            mon = m\n",
    "\n",
    "print(ts)\n",
    "print(mon)"
   ]
  }
 ],
 "metadata": {
  "kernelspec": {
   "display_name": "Python 3",
   "language": "python",
   "name": "python3"
  },
  "language_info": {
   "codemirror_mode": {
    "name": "ipython",
    "version": 3
   },
   "file_extension": ".py",
   "mimetype": "text/x-python",
   "name": "python",
   "nbconvert_exporter": "python",
   "pygments_lexer": "ipython3",
   "version": "3.6.7"
  }
 },
 "nbformat": 4,
 "nbformat_minor": 4
}
