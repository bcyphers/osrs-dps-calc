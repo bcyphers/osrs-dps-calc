{
 "cells": [
  {
   "cell_type": "code",
   "execution_count": 116,
   "metadata": {},
   "outputs": [],
   "source": [
    "import calc_dps\n",
    "import numpy as np\n",
    "import importlib"
   ]
  },
  {
   "cell_type": "code",
   "execution_count": 112,
   "metadata": {},
   "outputs": [
    {
     "name": "stdout",
     "output_type": "stream",
     "text": [
      "{'claws', 'stabbing_swords', 'pickaxes', 'staves', 'slashing_swords', 'bladed_staves', 'crossbows', 'bulwarks', 'spears', 'two-handed_swords', 'axes', 'banners', 'salamanders', 'unarmed', 'chinchompas', 'polestaves', 'spiked_weapons', 'halberds', 'trident-class_weapons', 'blunt_weapons', 'bows', 'scythes', 'whips', 'thrown_weapons'}\n"
     ]
    }
   ],
   "source": [
    "wtypes = set(w.weapon.weapon_type for w in calc_dps.all_weapons)\n",
    "print(wtypes)"
   ]
  },
  {
   "cell_type": "code",
   "execution_count": 115,
   "metadata": {},
   "outputs": [
    {
     "data": {
      "text/plain": [
       "914"
      ]
     },
     "execution_count": 115,
     "metadata": {},
     "output_type": "execute_result"
    }
   ],
   "source": [
    "from collections import defaultdict\n",
    "monsters = defaultdict(dict)\n",
    "for name, lvl in calc_dps.monster_dict.keys():\n",
    "    monsters[name][lvl] = calc_dps.monster_dict[(name, lvl)]\n",
    "    \n",
    "len(monsters)"
   ]
  },
  {
   "cell_type": "code",
   "execution_count": 128,
   "metadata": {
    "scrolled": false
   },
   "outputs": [
    {
     "name": "stdout",
     "output_type": "stream",
     "text": [
      "max hit: 15, hit chance: 0.544\n",
      "computed htk: 30.9, ttk: 92.8 s\n",
      "slash: max hit: 10, hit chance: 0.198\n"
     ]
    }
   ],
   "source": [
    "importlib.reload(calc_dps)\n",
    "\n",
    "equip = calc_dps.Equipment(\n",
    "    stance=1, \n",
    "    weapon='dragon longsword',\n",
    "    neck='amulet of glory',\n",
    "    shield='rune kiteshield',\n",
    "    head='rune full helm',\n",
    "    body='rune platebody',\n",
    "    legs='rune platelegs',\n",
    "    feet='fancy boots',\n",
    "    hands='combat bracelet',\n",
    "    cape='ardougne cloak 1',\n",
    "    ring='warrior ring',\n",
    ")\n",
    "\n",
    "enemy = calc_dps.monster_dict[('fire giant', 104)]\n",
    "player = calc_dps.Player(60, 56, 41, equipment=equip)\n",
    "\n",
    "ttk = calc_dps.expected_ttk(player, enemy)\n",
    "dmg = calc_dps.expected_dmg(player, enemy, ttk)\n"
   ]
  },
  {
   "cell_type": "code",
   "execution_count": 118,
   "metadata": {},
   "outputs": [
    {
     "name": "stdout",
     "output_type": "stream",
     "text": [
      "max hit: 15, hit chance: 0.544\n"
     ]
    },
    {
     "data": {
      "image/png": "[encoded data removed]",
      "text/plain": [
       "<Figure size 432x288 with 1 Axes>"
      ]
     },
     "metadata": {
      "needs_background": "light"
     },
     "output_type": "display_data"
    },
    {
     "name": "stdout",
     "output_type": "stream",
     "text": [
      "slash: max hit: 10, hit chance: 0.198\n",
      "mean simulated damage: 34.8\n",
      "medians: 11 (5%) < 33 (50%) < 63 (95%)\n"
     ]
    },
    {
     "data": {
      "image/png": "[encoded data removed]",
      "text/plain": [
       "<Figure size 432x288 with 1 Axes>"
      ]
     },
     "metadata": {
      "needs_background": "light"
     },
     "output_type": "display_data"
    },
    {
     "name": "stdout",
     "output_type": "stream",
     "text": [
      "Damage per kill: 34.8\n"
     ]
    }
   ],
   "source": [
    "calc_dps.simulate(player, enemy, aggro=True)\n",
    "\n",
    "print('Damage per kill: %.1f' % dmg)"
   ]
  }
 ],
 "metadata": {
  "kernelspec": {
   "display_name": "Python 3",
   "language": "python",
   "name": "python3"
  },
  "language_info": {
   "codemirror_mode": {
    "name": "ipython",
    "version": 3
   },
   "file_extension": ".py",
   "mimetype": "text/x-python",
   "name": "python",
   "nbconvert_exporter": "python",
   "pygments_lexer": "ipython3",
   "version": "3.6.7"
  }
 },
 "nbformat": 4,
 "nbformat_minor": 4
}
