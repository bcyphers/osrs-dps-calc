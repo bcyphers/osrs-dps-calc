{
 "cells": [
  {
   "cell_type": "code",
   "execution_count": 1,
   "metadata": {},
   "outputs": [],
   "source": [
    "import calc_dps"
   ]
  },
  {
   "cell_type": "code",
   "execution_count": 35,
   "metadata": {},
   "outputs": [
    {
     "data": {
      "text/plain": [
       "ItemEquipment(attack_stab=0, attack_slash=0, attack_crush=0, attack_magic=0, attack_ranged=0, defence_stab=0, defence_slash=0, defence_crush=0, defence_magic=0, defence_ranged=0, melee_strength=8, ranged_strength=0, magic_damage=0, prayer=0, slot='weapon', requirements=None)"
      ]
     },
     "execution_count": 35,
     "metadata": {},
     "output_type": "execute_result"
    }
   ],
   "source": [
    "wtypes = set(w.weapon.weapon_type for w in calc_dps.all_weapons)\n",
    "calc_dps.all_weapons[200].equipment"
   ]
  },
  {
   "cell_type": "code",
   "execution_count": 2,
   "metadata": {},
   "outputs": [],
   "source": []
  },
  {
   "cell_type": "code",
   "execution_count": 42,
   "metadata": {},
   "outputs": [
    {
     "name": "stdout",
     "output_type": "stream",
     "text": [
      "max hit: 15, hit chance: 0.898\n"
     ]
    },
    {
     "data": {
      "image/png": "[encoded data removed]",
      "text/plain": [
       "<Figure size 432x288 with 1 Axes>"
      ]
     },
     "metadata": {
      "needs_background": "light"
     },
     "output_type": "display_data"
    },
    {
     "name": "stdout",
     "output_type": "stream",
     "text": [
      "6 < 9 < 13\n",
      "computed: 9.0, simulated: 9.0\n",
      "crush: max hit: 6, hit chance: 0.105\n",
      "Damage per kill: 2.5\n"
     ]
    }
   ],
   "source": [
    "import importlib\n",
    "importlib.reload(calc_dps)\n",
    "\n",
    "rscim = calc_dps.weapon_dict['rune scimitar']\n",
    "dsw = calc_dps.weapon_dict['dragon sword']\n",
    "\n",
    "\n",
    "equip = calc_dps.Equipment(\n",
    "    stance=0, \n",
    "    weapon='dragon sword',\n",
    "    neck='amulet of glory',\n",
    "    shield='dragon defender',\n",
    "    head='rune full helm',\n",
    "    body='rune platebody',\n",
    "    legs='rune platelegs',\n",
    "    feet='fancy boots',\n",
    "    hands='combat bracelet',\n",
    "    cape='ardougne cloak 1',\n",
    "    ring='warrior ring',\n",
    ")\n",
    "\n",
    "enemy = calc_dps.monster_dict[('moss giant', 42)]\n",
    "player = calc_dps.Player(60, 56, 41)\n",
    "\n",
    "ttk = calc_dps.expected_ttk(player, equip, enemy)\n",
    "dmg = calc_dps.expected_damage(player, equip, enemy, ttk)\n",
    "\n",
    "print('Damage per kill: %.1f' % dmg)"
   ]
  },
  {
   "cell_type": "code",
   "execution_count": 29,
   "metadata": {},
   "outputs": [
    {
     "name": "stdout",
     "output_type": "stream",
     "text": [
      "{'curse', 'dragonfire', 'stab', 'typeless', 'ranged', 'slash', 'magic', 'melee', 'crush'}\n",
      "MonsterProperties(id=9465, name='Infernal pyrelord', incomplete=True, members=True, release_date='2020-02-13', combat_level=134, size=3, hitpoints=184, max_hit=10, attack_type=['melee', 'magic'], attack_speed=4, aggressive=False, poisonous=False, immune_poison=False, immune_venom=False, attributes=['demon'], category=['pyrefiend'], slayer_monster=True, slayer_level=30, slayer_xp=1840.0, slayer_masters=['mazchna', 'vannaka', 'chaeldar'], duplicate=False, examine='A huge demonic being of fire.', icon=None, wiki_name='Infernal pyrelord', wiki_url='https://oldschool.runescape.wiki/w/Infernal_pyrelord', attack_level=124, strength_level=96, defence_level=68, magic_level=1, ranged_level=1, attack_stab=0, attack_slash=0, attack_crush=0, attack_magic=0, attack_ranged=0, defence_stab=18, defence_slash=18, defence_crush=18, defence_magic=0, defence_ranged=18, attack_accuracy=0, melee_strength=0, ranged_strength=0, magic_damage=0, drops=[MonsterDrop(id=592, name='Ashes', members=True, quantity='1', noted=False, rarity=1.0, drop_requirements=None), MonsterDrop(id=1355, name='Mithril axe', members=True, quantity='1', noted=False, rarity=0.03125, drop_requirements=None), MonsterDrop(id=1159, name='Mithril full helm', members=True, quantity='1', noted=False, rarity=0.03125, drop_requirements=None), MonsterDrop(id=1387, name='Staff of fire', members=True, quantity='1', noted=False, rarity=0.0234375, drop_requirements=None), MonsterDrop(id=1109, name='Mithril chainbody', members=True, quantity='1', noted=False, rarity=0.015625, drop_requirements=None), MonsterDrop(id=1145, name='Adamant med helm', members=True, quantity='1', noted=False, rarity=0.0078125, drop_requirements=None), MonsterDrop(id=4123, name='Steel boots', members=True, quantity='1', noted=False, rarity=0.0078125, drop_requirements=None), MonsterDrop(id=554, name='Fire rune', members=True, quantity='100', noted=False, rarity=0.0625, drop_requirements=None), MonsterDrop(id=554, name='Fire rune', members=True, quantity='100', noted=False, rarity=0.0625, drop_requirements=None), MonsterDrop(id=562, name='Chaos rune', members=True, quantity='20', noted=False, rarity=0.0390625, drop_requirements=None), MonsterDrop(id=560, name='Death rune', members=True, quantity='5', noted=False, rarity=0.0234375, drop_requirements=None), MonsterDrop(id=617, name='Coins', members=True, quantity='600', noted=False, rarity=0.015625, drop_requirements=None), MonsterDrop(id=617, name='Coins', members=True, quantity='600', noted=False, rarity=0.015625, drop_requirements=None), MonsterDrop(id=617, name='Coins', members=True, quantity='600', noted=False, rarity=0.015625, drop_requirements=None), MonsterDrop(id=617, name='Coins', members=True, quantity='600', noted=False, rarity=0.015625, drop_requirements=None), MonsterDrop(id=617, name='Coins', members=True, quantity='600', noted=False, rarity=0.015625, drop_requirements=None), MonsterDrop(id=444, name='Gold ore', members=True, quantity='2', noted=False, rarity=0.0625, drop_requirements=None), MonsterDrop(id=1993, name='Jug of wine', members=True, quantity='1', noted=False, rarity=0.015625, drop_requirements=None), MonsterDrop(id=2801, name='Clue scroll (medium)', members=True, quantity='1', noted=False, rarity=0.09615384615384616, drop_requirements=None), MonsterDrop(id=20730, name='Mist battlestaff', members=True, quantity='1', noted=False, rarity=0.002637130801687764, drop_requirements='superior-only'), MonsterDrop(id=20736, name='Dust battlestaff', members=True, quantity='1', noted=False, rarity=0.002637130801687764, drop_requirements='superior-only'), MonsterDrop(id=21270, name='Eternal gem', members=True, quantity='1', noted=False, rarity=0.000879043600562588, drop_requirements='superior-only'), MonsterDrop(id=20724, name='Imbued heart', members=True, quantity='1', noted=False, rarity=0.000879043600562588, drop_requirements='superior-only')])\n"
     ]
    }
   ],
   "source": [
    "ts = set()\n",
    "for m in calc_dps.all_monsters:\n",
    "    for t in m.attack_type:\n",
    "        ts.add(t)\n",
    "        if t == 'melee':\n",
    "            mon = m\n",
    "\n",
    "print(ts)\n",
    "print(mon)"
   ]
  }
 ],
 "metadata": {
  "kernelspec": {
   "display_name": "Python 3",
   "language": "python",
   "name": "python3"
  },
  "language_info": {
   "codemirror_mode": {
    "name": "ipython",
    "version": 3
   },
   "file_extension": ".py",
   "mimetype": "text/x-python",
   "name": "python",
   "nbconvert_exporter": "python",
   "pygments_lexer": "ipython3",
   "version": "3.6.7"
  }
 },
 "nbformat": 4,
 "nbformat_minor": 4
}
