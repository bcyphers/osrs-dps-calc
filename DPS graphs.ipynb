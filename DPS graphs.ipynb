{
 "cells": [
  {
   "cell_type": "code",
   "execution_count": 206,
   "metadata": {},
   "outputs": [
    {
     "data": {
      "text/plain": [
       "<module 'calc_dps' from '/home/bennett/projects/osrs-dps-calc/calc_dps.py'>"
      ]
     },
     "execution_count": 206,
     "metadata": {},
     "output_type": "execute_result"
    }
   ],
   "source": [
    "import calc_dps\n",
    "import numpy as np\n",
    "import importlib\n",
    "importlib.reload(calc_dps)"
   ]
  },
  {
   "cell_type": "code",
   "execution_count": 187,
   "metadata": {},
   "outputs": [
    {
     "data": {
      "text/plain": [
       "{0, 1, 10, 12, 15, 2, 3, 4, 5, 6, 7, 8, 9, None}"
      ]
     },
     "execution_count": 187,
     "metadata": {},
     "output_type": "execute_result"
    }
   ],
   "source": [
    "wtypes = set(w.weapon.weapon_type for w in calc_dps.all_weapons)\n",
    "print(wtypes)"
   ]
  },
  {
   "cell_type": "code",
   "execution_count": 213,
   "metadata": {},
   "outputs": [
    {
     "name": "stdout",
     "output_type": "stream",
     "text": [
      "914\n"
     ]
    },
    {
     "data": {
      "text/plain": [
       "MonsterProperties(id=6914, name='Lizardman', incomplete=True, members=True, release_date='2016-01-07', combat_level=53, size=1, hitpoints=60, max_hit=7, attack_type=['crush', 'ranged'], attack_speed=4, aggressive=True, poisonous=True, immune_poison=True, immune_venom=True, attributes=[], category=['lizardmen'], slayer_monster=True, slayer_level=1, slayer_xp=60.0, slayer_masters=['chaeldar', 'konar', 'nieve', 'duradel'], duplicate=False, examine='From a race created during the darker days of Kourend.', icon=None, wiki_name='Lizardman (Level 53)', wiki_url='https://oldschool.runescape.wiki/w/Lizardman#Level_53', attack_level=43, strength_level=43, defence_level=43, magic_level=1, ranged_level=43, attack_stab=0, attack_slash=0, attack_crush=0, attack_magic=0, attack_ranged=22, defence_stab=-10, defence_slash=25, defence_crush=0, defence_magic=0, defence_ranged=0, attack_accuracy=22, melee_strength=20, ranged_strength=20, magic_damage=0, drops=[MonsterDrop(id=526, name='Bones', members=True, quantity='1', noted=False, rarity=1.0, drop_requirements=None), MonsterDrop(id=13391, name='Lizardman fang', members=True, quantity='1', noted=False, rarity=0.1794871794871795, drop_requirements=None), MonsterDrop(id=13383, name='Xerician fabric', members=True, quantity='1', noted=False, rarity=0.10256410256410256, drop_requirements=None), MonsterDrop(id=13392, name=\"Xeric's talisman (inert)\", members=True, quantity='1', noted=False, rarity=0.004, drop_requirements=None), MonsterDrop(id=23083, name='Brimstone key', members=True, quantity='1', noted=False, rarity=0.003238341968911917, drop_requirements=None), MonsterDrop(id=526, name='Bones', members=True, quantity='1', noted=False, rarity=1.0, drop_requirements=None), MonsterDrop(id=13391, name='Lizardman fang', members=True, quantity='1', noted=False, rarity=0.1794871794871795, drop_requirements=None), MonsterDrop(id=13383, name='Xerician fabric', members=True, quantity='1', noted=False, rarity=0.10256410256410256, drop_requirements=None), MonsterDrop(id=13392, name=\"Xeric's talisman (inert)\", members=True, quantity='1', noted=False, rarity=0.004, drop_requirements=None), MonsterDrop(id=23083, name='Brimstone key', members=True, quantity='1', noted=False, rarity=0.003238341968911917, drop_requirements=None), MonsterDrop(id=5100, name='Limpwurt seed', members=True, quantity='1', noted=False, rarity=0.025138260432378084, drop_requirements=None), MonsterDrop(id=5323, name='Strawberry seed', members=True, quantity='1', noted=False, rarity=0.02403846153846154, drop_requirements=None), MonsterDrop(id=5292, name='Marrentill seed', members=True, quantity='1', noted=False, rarity=0.02293746330005872, drop_requirements=None), MonsterDrop(id=5104, name='Jangerberry seed', members=True, quantity='1', noted=False, rarity=0.01688390626055244, drop_requirements=None), MonsterDrop(id=5293, name='Tarromin seed', members=True, quantity='1', noted=False, rarity=0.015596730925198077, drop_requirements=None), MonsterDrop(id=5311, name='Wildblood seed', members=True, quantity='1', noted=False, rarity=0.015226262257141117, drop_requirements=None), MonsterDrop(id=5321, name='Watermelon seed', members=True, quantity='1', noted=False, rarity=0.01156390212313243, drop_requirements=None), MonsterDrop(id=5294, name='Harralander seed', members=True, quantity='1', noted=False, rarity=0.010278337376146035, drop_requirements=None), MonsterDrop(id=22879, name='Snape grass seed', members=True, quantity='1', noted=False, rarity=0.007339988256018791, drop_requirements=None), MonsterDrop(id=5295, name='Ranarr seed', members=True, quantity='1', noted=False, rarity=0.007156966591279952, drop_requirements=None), MonsterDrop(id=5105, name='Whiteberry seed', members=True, quantity='1', noted=False, rarity=0.006239704487595468, drop_requirements=None), MonsterDrop(id=5282, name='Mushroom spore', members=True, quantity='1', noted=False, rarity=0.005321186837512239, drop_requirements=None), MonsterDrop(id=5296, name='Toadflax seed', members=True, quantity='1', noted=False, rarity=0.004955106732999029, drop_requirements=None), MonsterDrop(id=5281, name='Belladonna seed', members=True, quantity='1', noted=False, rarity=0.0033031207885209947, drop_requirements=None), MonsterDrop(id=5297, name='Irit seed', members=True, quantity='1', noted=False, rarity=0.0033031207885209947, drop_requirements=None), MonsterDrop(id=5106, name='Poison ivy seed', members=True, quantity='1', noted=False, rarity=0.002385359616815831, drop_requirements=None), MonsterDrop(id=5298, name='Avantoe seed', members=True, quantity='1', noted=False, rarity=0.002202080525680663, drop_requirements=None), MonsterDrop(id=5280, name='Cactus seed', members=True, quantity='1', noted=False, rarity=0.002202080525680663, drop_requirements=None), MonsterDrop(id=5299, name='Kwuarm seed', members=True, quantity='1', noted=False, rarity=0.0016521279407877346, drop_requirements=None), MonsterDrop(id=22873, name='Potato cactus seed', members=True, quantity='1', noted=False, rarity=0.0014679976512037582, drop_requirements=None), MonsterDrop(id=5300, name='Snapdragon seed', members=True, quantity='1', noted=False, rarity=0.0009174985320023488, drop_requirements=None), MonsterDrop(id=5301, name='Cadantine seed', members=True, quantity='1', noted=False, rarity=0.0007339988256018791, drop_requirements=None), MonsterDrop(id=5302, name='Lantadyme seed', members=True, quantity='1', noted=False, rarity=0.0005505516527560616, drop_requirements=None), MonsterDrop(id=5303, name='Dwarf weed seed', members=True, quantity='1', noted=False, rarity=0.00036699941280093955, drop_requirements=None), MonsterDrop(id=5304, name='Torstol seed', members=True, quantity='1', noted=False, rarity=0.00018349970640046978, drop_requirements=None)])"
      ]
     },
     "execution_count": 213,
     "metadata": {},
     "output_type": "execute_result"
    }
   ],
   "source": [
    "from collections import defaultdict\n",
    "monsters = defaultdict(dict)\n",
    "for name, lvl in calc_dps.monster_dict.keys():\n",
    "    monsters[name][lvl] = calc_dps.monster_dict[(name, lvl)]\n",
    "    \n",
    "print(len(monsters))\n",
    "monsters['lizardman'][53]"
   ]
  },
  {
   "cell_type": "code",
   "execution_count": 139,
   "metadata": {},
   "outputs": [
    {
     "data": {
      "text/plain": [
       "[9, 8, 7, 6]"
      ]
     },
     "execution_count": 139,
     "metadata": {},
     "output_type": "execute_result"
    }
   ],
   "source": [
    "list(range(10))[:-5:-1]"
   ]
  },
  {
   "cell_type": "code",
   "execution_count": 221,
   "metadata": {
    "scrolled": false
   },
   "outputs": [
    {
     "name": "stdout",
     "output_type": "stream",
     "text": [
      "(0.7279411764705883, 16)\n",
      "(0.18476903870162298, 11)\n",
      "[(25661.07062913202, ('Dragon sword', 'lunge')), (24726.61523793015, (\"Viggora's chainmace (u)\", 'pummel')), (24726.61523793015, (\"Viggora's chainmace\", 'pummel')), (24390.423097203507, ('Leaf-bladed sword', 'lunge')), (23568.996545247835, ('Toktz-xil-ak', 'lunge')), (22953.20278632256, ('Granite hammer', 'pummel')), (22752.04895079387, ('Dragon scimitar (or)', 'slash')), (22752.04895079387, ('Dragon scimitar', 'slash')), (22159.693940433495, ('Rapier', 'lunge'))]\n",
      "[(205273.877876032, 'Rooster lv. 2'), (205273.877876032, 'Rabbit lv. 2'), (205273.877876032, 'Rabbit lv. 1'), (44459.59970348406, 'Undead chicken lv. 1'), (44459.59970348406, 'Gnome lv. 3'), (44459.59970348406, 'Gnome lv. 1'), (44459.59970348406, 'Duckling lv. 1'), (44459.59970348406, 'Duck lv. 1'), (44459.59970348406, 'Chicken lv. 3')]\n"
     ]
    }
   ],
   "source": [
    "importlib.reload(calc_dps)\n",
    "\n",
    "equip = calc_dps.Equipment(\n",
    "    stance=1, \n",
    "    weapon=\"viggora's chainmace\",\n",
    "    neck='amulet of glory',\n",
    "    shield='rune kiteshield',\n",
    "    head='rune full helm',\n",
    "    body='rune platebody',\n",
    "    legs='rune platelegs',\n",
    "    feet='fancy boots',\n",
    "    hands='combat bracelet',\n",
    "    cape='ardougne cloak 1',\n",
    "    ring='warrior ring',\n",
    ")\n",
    "\n",
    "enemy = monsters['lizardman brute'][73]\n",
    "player = calc_dps.Player(60, 60, 41, equipment=equip)\n",
    "\n",
    "ttk = calc_dps.expected_ttk(player, enemy)\n",
    "dmg = calc_dps.expected_dmg(player, enemy, ttk)\n",
    "\n",
    "print(calc_dps.get_atk_stats(player, enemy))\n",
    "print(calc_dps.get_def_stats(player, enemy))\n",
    "\n",
    "print(calc_dps.best_weapon(player, enemy, 'strength'))\n",
    "\n",
    "print(calc_dps.best_monster(player, n_results=10))"
   ]
  },
  {
   "cell_type": "code",
   "execution_count": 211,
   "metadata": {},
   "outputs": [
    {
     "name": "stdout",
     "output_type": "stream",
     "text": [
      "player max hit: 15, hit chance: 73.1%\n"
     ]
    },
    {
     "data": {
      "image/png": "[encoded data removed]",
      "text/plain": [
       "<Figure size 432x288 with 1 Axes>"
      ]
     },
     "metadata": {
      "needs_background": "light"
     },
     "output_type": "display_data"
    },
    {
     "name": "stdout",
     "output_type": "stream",
     "text": [
      "enemy max hit: 9, hit chance: 14.5%\n",
      "mean simulated damage: 8.7\n",
      "medians: 0 (5%) < 8 (50%) < 23 (95%)\n"
     ]
    },
    {
     "data": {
      "image/png": "[encoded data removed]",
      "text/plain": [
       "<Figure size 432x288 with 1 Axes>"
      ]
     },
     "metadata": {
      "needs_background": "light"
     },
     "output_type": "display_data"
    },
    {
     "data": {
      "text/plain": [
       "([0,\n",
       "  0,\n",
       "  0,\n",
       "  0,\n",
       "  5.636699308804721e-06,\n",
       "  0.004258762848125906,\n",
       "  0.024324629761352957,\n",
       "  0.061364298717993225,\n",
       "  0.10259872633106051,\n",
       "  0.13265791785623426,\n",
       "  0.14342053515304343,\n",
       "  0.13573121691604087,\n",
       "  0.11581017581518697,\n",
       "  0.09090750891141647,\n",
       "  0.06661310136608027,\n",
       "  0.04606190972898061,\n",
       "  0.030308777898898423,\n",
       "  0.019102395488933527,\n",
       "  0.01159272900007632,\n",
       "  0.006803411023277471,\n",
       "  0.003874845771543953,\n",
       "  0.0021481398213836584,\n",
       "  0.0011621104864608905,\n",
       "  0.0006148188441059957,\n",
       "  0.000318692259158325,\n",
       "  0.00016211558985762236,\n",
       "  8.104456904679378e-05],\n",
       " array([1.66604070e-01, 3.42021290e-02, 3.75774628e-02, 4.11678510e-02,\n",
       "        4.49833297e-02, 4.90343042e-02, 5.33315604e-02, 5.78862763e-02,\n",
       "        6.27100337e-02, 6.78148306e-02, 3.90109643e-02, 3.79648930e-02,\n",
       "        3.65933146e-02, 3.48698749e-02, 3.27668549e-02, 3.02551179e-02,\n",
       "        2.73040543e-02, 2.38815247e-02, 1.99538013e-02, 1.54855076e-02,\n",
       "        1.38148894e-02, 1.21729129e-02, 1.05790898e-02, 9.05471428e-03,\n",
       "        7.62296136e-03, 6.30898930e-03, 5.14004614e-03, 4.14558058e-03,\n",
       "        3.35735733e-03, 2.80957702e-03, 2.32394644e-03, 1.89977225e-03,\n",
       "        1.53549325e-03, 1.22859499e-03, 9.75519562e-04, 7.71570109e-04,\n",
       "        6.10810073e-04, 4.85956793e-04, 3.88269292e-04, 3.07430005e-04,\n",
       "        2.41456306e-04, 1.88379471e-04, 1.46275504e-04, 1.13299165e-04,\n",
       "        8.77213938e-05, 6.79703315e-05, 5.26761449e-05, 4.07198783e-05]))"
      ]
     },
     "execution_count": 211,
     "metadata": {},
     "output_type": "execute_result"
    }
   ],
   "source": [
    "importlib.reload(calc_dps)\n",
    "enemy = monsters['lizardman'][62]\n",
    "player = calc_dps.Player(60, 57, 41, equipment=equip)\n",
    "calc_dps.simulate(player, enemy, aggro=True)"
   ]
  }
 ],
 "metadata": {
  "kernelspec": {
   "display_name": "Python 3",
   "language": "python",
   "name": "python3"
  },
  "language_info": {
   "codemirror_mode": {
    "name": "ipython",
    "version": 3
   },
   "file_extension": ".py",
   "mimetype": "text/x-python",
   "name": "python",
   "nbconvert_exporter": "python",
   "pygments_lexer": "ipython3",
   "version": "3.6.7"
  }
 },
 "nbformat": 4,
 "nbformat_minor": 4
}
